{
 "cells": [
  {
   "cell_type": "code",
   "execution_count": null,
   "id": "889e61df",
   "metadata": {},
   "outputs": [],
   "source": [
    "import pandas as pd\n",
    "import numpy as np\n",
    "from pydataset import data\n",
    "import env\n",
    "import os"
   ]
  },
  {
   "cell_type": "code",
   "execution_count": null,
   "id": "51af9d3e",
   "metadata": {},
   "outputs": [],
   "source": [
    "#function to get credentials to Codeup mysql server\n",
    "\n",
    "def get_db_url(db, env_file=os.path.exists('env.py')):\n",
    "    '''\n",
    "    return a formatted string containing username, password, host, \n",
    "    and database for connecting to the mySql server and indicated\n",
    "    database.\n",
    "    env_file checks to see if env.py exists in cwd\n",
    "    '''\n",
    "    \n",
    "    if env_file:\n",
    "        \n",
    "        username, password, host = (env.username, env.password, env.host)\n",
    "        \n",
    "        return f'mysql+pymysql://{username}:{password}@{host}/{db}'\n",
    "        \n",
    "    else: \n",
    "        return \"Hellooooo, you need a username and password, genius.\"\n",
    "    \n",
    "url = get_db_url('')"
   ]
  },
  {
   "cell_type": "code",
   "execution_count": null,
   "id": "4c2b70f1",
   "metadata": {},
   "outputs": [],
   "source": [
    "#where to import for pydataset\n",
    "from pydataset import data\n",
    "\n",
    "#syntax to pull a dataframe and give it a variable name\n",
    "df = data('dataframe_name')\n",
    "\n",
    "#how to pull a dataset and show the documentation\n",
    "data('mpg', show_doc=True)"
   ]
  },
  {
   "cell_type": "code",
   "execution_count": null,
   "id": "038204cb",
   "metadata": {},
   "outputs": [],
   "source": [
    "#basic skeleton for plot creation\n",
    "\n",
    "#configuration for higher resolution screens\n",
    "#%config InLineBackend.figure_format = \n",
    "\n",
    "#set a figure size\n",
    "plt.figure(figsize = (0, 0))\n",
    "\n",
    "#if you need a subplot\n",
    "#plt.subplot(000)\n",
    "#need this on top of each different subplot\n",
    "\n",
    "#generate x values\n",
    "x = []\n",
    "\n",
    "#calculate the y value\n",
    "y = []\n",
    "\n",
    "#plot the data\n",
    "##can set alpha values for levels of transparency\n",
    "plt.plot(x, y)\n",
    "#simply add more lines to add more plots\n",
    "\n",
    "#customize the chart\n",
    "plt.title('')\n",
    "plt.xlabel('')\n",
    "plt.ylabel('')\n",
    "\n",
    "#adding annotation\n",
    "plt.annotate('Example', xy = (0,0), xytext = (0, 3000), arrowprops = {})\n",
    "\n",
    "#one way to get x and y limits\n",
    "plt.xlim(0, 10)\n",
    "plt.ylim(0, 10)\n",
    "#alternate way to set x and y limits\n",
    "plt.axis([0,10, 0, 10])\n",
    "\n",
    "#grid lines\n",
    "plt.grid(True, ls='--')\n",
    "\n",
    "#sets legend\n",
    "plt.legend()\n",
    "\n",
    "#sets padding around subplots\n",
    "plt.tight_layout()\n",
    "\n",
    "#save the figure\n",
    "plt.savefig('figure1')"
   ]
  }
 ],
 "metadata": {
  "kernelspec": {
   "display_name": "Python 3 (ipykernel)",
   "language": "python",
   "name": "python3"
  },
  "language_info": {
   "codemirror_mode": {
    "name": "ipython",
    "version": 3
   },
   "file_extension": ".py",
   "mimetype": "text/x-python",
   "name": "python",
   "nbconvert_exporter": "python",
   "pygments_lexer": "ipython3",
   "version": "3.9.13"
  }
 },
 "nbformat": 4,
 "nbformat_minor": 5
}
